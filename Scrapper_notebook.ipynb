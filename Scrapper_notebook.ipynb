{
 "cells": [
  {
   "cell_type": "markdown",
   "metadata": {},
   "source": [
    "### Importing Relevant Libraries"
   ]
  },
  {
   "cell_type": "code",
   "execution_count": 1,
   "metadata": {},
   "outputs": [],
   "source": [
    "from selenium import webdriver\n",
    "from selenium.webdriver.firefox.options import Options\n",
    "from selenium.webdriver.common.by import By\n",
    "from selenium.webdriver.support.ui import WebDriverWait\n",
    "from selenium.webdriver.support import expected_conditions as EC\n",
    "from datetime import datetime\n",
    "from bs4 import BeautifulSoup\n",
    "import pandas as pd"
   ]
  },
  {
   "cell_type": "markdown",
   "metadata": {},
   "source": [
    "### Function for filtering countries in the table "
   ]
  },
  {
   "cell_type": "code",
   "execution_count": 2,
   "metadata": {},
   "outputs": [],
   "source": [
    "def filter_countries(driver, countries):\n",
    "\n",
    "    # Wait for the filter button to be clickable\n",
    "    filter_button = WebDriverWait(driver, 5).until(\n",
    "    EC.element_to_be_clickable((By.ID, \"filterStateAnchor\")))\n",
    "\n",
    "    # Click the filter button\n",
    "    filter_button.click()\n",
    "    \n",
    "    # Locate all country labels\n",
    "    country_labels = driver.find_elements(By.XPATH, \"//label[contains(@for, 'country')]\")\n",
    "    \n",
    "    # Check if the default country filter is selected and deselect it if necessary\n",
    "    default_country_checkbox = None\n",
    "    for label in country_labels:\n",
    "        country_name = label.text.strip()\n",
    "        if country_name == \"United States\":\n",
    "            default_country_checkbox = label.find_element(By.XPATH, \"./preceding-sibling::input[@type='checkbox']\")\n",
    "            break\n",
    "\n",
    "    if default_country_checkbox and default_country_checkbox.is_selected():\n",
    "        default_country_checkbox.click()\n",
    "\n",
    "    # Iterate over each label and check if it matches the user-provided country names\n",
    "    for label in country_labels:\n",
    "        country_name = label.text.strip()\n",
    "        if country_name in countries:\n",
    "            # If there's a match, find the associated checkbox and click it\n",
    "            checkbox_id = label.get_attribute('for')\n",
    "            checkbox = driver.find_element(By.ID, checkbox_id)\n",
    "            if not checkbox.is_selected():\n",
    "                driver.execute_script(\"arguments[0].click();\", checkbox)\n",
    "    \n",
    "\n",
    "    apply_filter_button = driver.find_element(By.ID, \"ecSubmitButton\")\n",
    "    apply_filter_button.click()"
   ]
  },
  {
   "cell_type": "markdown",
   "metadata": {},
   "source": [
    "### Function for selecting date range"
   ]
  },
  {
   "cell_type": "code",
   "execution_count": 3,
   "metadata": {},
   "outputs": [],
   "source": [
    "def select_date(driver, date_option, start_date=None, end_date=None, max_attempts=10):\n",
    "    date_option_map = {\n",
    "        \"Yesterday\": \"timeFrame_yesterday\",\n",
    "        \"Today\": \"timeFrame_today\",\n",
    "        \"Tomorrow\": \"timeFrame_tomorrow\",\n",
    "        \"This Week\": \"timeFrame_thisWeek\",\n",
    "        \"Next Week\": \"timeFrame_nextWeek\",\n",
    "        \"Custom Date\": \"datePickerToggleBtn\"\n",
    "    }\n",
    "\n",
    "    attempt = 0\n",
    "    while attempt < max_attempts:\n",
    "        try:\n",
    "            attempt += 1\n",
    "            print(f\"Attempt {attempt} to select dates...\")\n",
    "\n",
    "            # Click on the selected date option\n",
    "            date_option_id = date_option_map.get(date_option, None)\n",
    "            if date_option_id is not None:\n",
    "                date_option_element = WebDriverWait(driver, 10).until(\n",
    "                    EC.element_to_be_clickable((By.ID, date_option_id))\n",
    "                )\n",
    "                date_option_element.click()\n",
    "                \n",
    "                # If \"Custom Date\" is selected, fill in start and end dates\n",
    "                if date_option == \"Custom Date\" and start_date and end_date:\n",
    "                    # Wait for the date picker to be visible\n",
    "                    WebDriverWait(driver, 10).until(\n",
    "                        EC.visibility_of_element_located((By.ID, \"ui-datepicker-div\"))\n",
    "                    )\n",
    "\n",
    "                    start_date_input = WebDriverWait(driver, 10).until(\n",
    "                        EC.presence_of_element_located((By.ID, \"startDate\"))\n",
    "                    )\n",
    "                    start_date_input.clear()\n",
    "                    start_date_input.send_keys(start_date)\n",
    "\n",
    "                    end_date_input = WebDriverWait(driver, 10).until(\n",
    "                        EC.presence_of_element_located((By.ID, \"endDate\"))\n",
    "                    )\n",
    "                    end_date_input.clear()\n",
    "                    end_date_input.send_keys(end_date)\n",
    "\n",
    "                    apply_button = WebDriverWait(driver, 5).until(EC.element_to_be_clickable((By.ID, \"applyBtn\")))\n",
    "                    apply_button.click()\n",
    "\n",
    "                    # Check if the startDate element is found\n",
    "                    WebDriverWait(driver, 10).until(\n",
    "                        EC.presence_of_element_located((By.ID, \"startDate\"))\n",
    "                    )\n",
    "                    print(\"Dates selected successfully.\")\n",
    "                    return\n",
    "                else:\n",
    "                    print(f\"Date option '{date_option}' found.\")\n",
    "                    return\n",
    "            else:\n",
    "                print(f\"Date option '{date_option}' not found.\")\n",
    "                return\n",
    "\n",
    "        except Exception as e:\n",
    "            print(f\"Attempt {attempt} failed with error: {e}\")\n",
    "        \n",
    "        print(\"Retrying...\")\n",
    "\n",
    "    print(f\"Failed to select dates after {max_attempts} attempts.\")\n",
    "    raise Exception(\"Failed to select dates after multiple attempts.\")\n"
   ]
  },
  {
   "cell_type": "markdown",
   "metadata": {},
   "source": [
    "### Function for Extracting table from the webpage"
   ]
  },
  {
   "cell_type": "code",
   "execution_count": 4,
   "metadata": {},
   "outputs": [],
   "source": [
    "def fetch_earnings_calendar_table(driver):\n",
    "    try:\n",
    "        get_source = driver.page_source\n",
    "        soup = BeautifulSoup(get_source, 'html.parser')\n",
    "        table_id = 'earningsCalendarData'\n",
    "        \n",
    "        table = soup.find('table', {'id': table_id})\n",
    "        # Check if the table was found\n",
    "        if table:\n",
    "            # Extract the table data into a pandas DataFrame\n",
    "            df = pd.read_html(str(table))[0]\n",
    "            return df\n",
    "        else:\n",
    "            print(f\"Table with id '{table_id}' not found.\")\n",
    "            return None\n",
    "    \n",
    "    finally:\n",
    "        # Ensure the WebDriver is closed regardless of success or failure\n",
    "        pass"
   ]
  },
  {
   "cell_type": "markdown",
   "metadata": {},
   "source": [
    "### Function for preprocessing the extracted raw table"
   ]
  },
  {
   "cell_type": "code",
   "execution_count": 5,
   "metadata": {},
   "outputs": [],
   "source": [
    "def preprocess_dataframe_for_aggregation(temp):\n",
    "    # Create new columns based on the given logic\n",
    "    temp[\"Company_Name\"] = temp.iloc[:, 1]\n",
    "    temp[\"EPS_Forecast\"] = temp.iloc[:, 2].astype(str).str.cat(temp.iloc[:, 3].astype(str), sep=' ', na_rep='')\n",
    "    temp[\"Revenue_Forecast_1\"] = temp.iloc[:, 4].astype(str).str.cat(temp.iloc[:, 5].astype(str), sep=' ', na_rep='')\n",
    "    temp[\"Market_Cap\"] = temp.iloc[:, 6].astype(str)\n",
    "\n",
    "    # Filter the DataFrame to keep only relevant columns and rows\n",
    "    filter_df = temp[['Company_Name', 'EPS_Forecast', 'Revenue_Forecast_1', 'Market_Cap']]\n",
    "\n",
    "    # Identify rows with dates\n",
    "    date_rows = filter_df['Company_Name'].str.contains('day, ')\n",
    "\n",
    "    # Extract dates and convert to datetime format\n",
    "    filter_df.loc[date_rows, 'Date'] = pd.to_datetime(filter_df.loc[date_rows, 'Company_Name'])\n",
    "\n",
    "    # Forward fill the dates\n",
    "    filter_df['Date'] = filter_df['Date'].fillna(method='ffill')\n",
    "\n",
    "    # Remove the date rows from the DataFrame\n",
    "    filter_df = filter_df[~date_rows]\n",
    "\n",
    "    # Reset the index\n",
    "    filter_df.reset_index(drop=True, inplace=True)\n",
    "\n",
    "    # Set the multi-index with Date and original index\n",
    "    filter_df.set_index(['Date', filter_df.index], inplace=True)\n",
    "\n",
    "    return filter_df\n"
   ]
  },
  {
   "cell_type": "markdown",
   "metadata": {},
   "source": [
    "### Initialize the FirefoxOptions"
   ]
  },
  {
   "cell_type": "code",
   "execution_count": 6,
   "metadata": {},
   "outputs": [],
   "source": [
    "firefox_options = Options()\n",
    "firefox_options.add_argument(\"--start-fullscreen\")  # Open in full screen mode\n",
    "firefox_options.add_argument(\"--ignore-certificate-errors\")  # This option is not typically used in Firefox; might need to handle differently\n",
    "firefox_options.add_argument(\"--disable-popup-blocking\")\n",
    "firefox_options.add_argument(\"--disable-notifications\")\n",
    "firefox_options.add_argument(\"--disable-extensions\")\n",
    "firefox_options.add_argument(\"--disable-infobars\")  # This option is not available in Firefox; it's specific to Chrome"
   ]
  },
  {
   "cell_type": "markdown",
   "metadata": {},
   "source": [
    "### Initializing the Selenium WebDriver with options"
   ]
  },
  {
   "cell_type": "code",
   "execution_count": 7,
   "metadata": {},
   "outputs": [],
   "source": [
    "driver = webdriver.Firefox(options=firefox_options)"
   ]
  },
  {
   "cell_type": "markdown",
   "metadata": {},
   "source": [
    "### Navigating to the website"
   ]
  },
  {
   "cell_type": "code",
   "execution_count": 8,
   "metadata": {},
   "outputs": [],
   "source": [
    "driver.get(\"https://www.investing.com/earnings-calendar/\")"
   ]
  },
  {
   "cell_type": "markdown",
   "metadata": {},
   "source": [
    "### User Input"
   ]
  },
  {
   "cell_type": "markdown",
   "metadata": {},
   "source": [
    "##### Country list for filter function"
   ]
  },
  {
   "cell_type": "code",
   "execution_count": 9,
   "metadata": {},
   "outputs": [],
   "source": [
    "Country_filter_list = [\"Taiwan,China,Argentina,Chile\"]"
   ]
  },
  {
   "cell_type": "markdown",
   "metadata": {},
   "source": [
    "##### For Fixed Interval"
   ]
  },
  {
   "cell_type": "code",
   "execution_count": 10,
   "metadata": {},
   "outputs": [],
   "source": [
    "# Date_option = \"This Week\"\n",
    "# filter_countries(driver,Country_filter_list)\n",
    "# select_date(driver, Date_option)"
   ]
  },
  {
   "cell_type": "markdown",
   "metadata": {},
   "source": [
    "##### For Custom Date Interval"
   ]
  },
  {
   "cell_type": "code",
   "execution_count": 16,
   "metadata": {},
   "outputs": [
    {
     "name": "stdout",
     "output_type": "stream",
     "text": [
      "Attempt 1 to select dates...\n",
      "Attempt 1 failed with error: Message: \n",
      "\n",
      "Retrying...\n",
      "Attempt 2 to select dates...\n",
      "Dates selected successfully.\n"
     ]
    }
   ],
   "source": [
    "Date_option = \"Custom Date\"\n",
    "start_date = \"01/01/2024\"\n",
    "end_date = \"01/31/2024\"\n",
    "filter_countries(driver,Country_filter_list)\n",
    "select_date(driver, Date_option,start_date,end_date)"
   ]
  },
  {
   "cell_type": "code",
   "execution_count": 23,
   "metadata": {},
   "outputs": [],
   "source": [
    "df = fetch_earnings_calendar_table(driver)"
   ]
  },
  {
   "cell_type": "code",
   "execution_count": 24,
   "metadata": {},
   "outputs": [
    {
     "name": "stderr",
     "output_type": "stream",
     "text": [
      "C:\\Users\\harsh\\AppData\\Local\\Temp\\ipykernel_44068\\1786815585.py:15: SettingWithCopyWarning: \n",
      "A value is trying to be set on a copy of a slice from a DataFrame.\n",
      "Try using .loc[row_indexer,col_indexer] = value instead\n",
      "\n",
      "See the caveats in the documentation: https://pandas.pydata.org/pandas-docs/stable/user_guide/indexing.html#returning-a-view-versus-a-copy\n",
      "  filter_df.loc[date_rows, 'Date'] = pd.to_datetime(filter_df.loc[date_rows, 'Company_Name'])\n",
      "C:\\Users\\harsh\\AppData\\Local\\Temp\\ipykernel_44068\\1786815585.py:18: SettingWithCopyWarning: \n",
      "A value is trying to be set on a copy of a slice from a DataFrame.\n",
      "Try using .loc[row_indexer,col_indexer] = value instead\n",
      "\n",
      "See the caveats in the documentation: https://pandas.pydata.org/pandas-docs/stable/user_guide/indexing.html#returning-a-view-versus-a-copy\n",
      "  filter_df['Date'] = filter_df['Date'].fillna(method='ffill')\n"
     ]
    }
   ],
   "source": [
    "final_df = preprocess_dataframe_for_aggregation(df)"
   ]
  },
  {
   "cell_type": "code",
   "execution_count": 25,
   "metadata": {},
   "outputs": [
    {
     "data": {
      "text/html": [
       "<div>\n",
       "<style scoped>\n",
       "    .dataframe tbody tr th:only-of-type {\n",
       "        vertical-align: middle;\n",
       "    }\n",
       "\n",
       "    .dataframe tbody tr th {\n",
       "        vertical-align: top;\n",
       "    }\n",
       "\n",
       "    .dataframe thead tr th {\n",
       "        text-align: left;\n",
       "    }\n",
       "\n",
       "    .dataframe thead tr:last-of-type th {\n",
       "        text-align: right;\n",
       "    }\n",
       "</style>\n",
       "<table border=\"1\" class=\"dataframe\">\n",
       "  <thead>\n",
       "    <tr>\n",
       "      <th></th>\n",
       "      <th></th>\n",
       "      <th>Company_Name</th>\n",
       "      <th>EPS_Forecast</th>\n",
       "      <th>Revenue_Forecast_1</th>\n",
       "      <th>Market_Cap</th>\n",
       "    </tr>\n",
       "    <tr>\n",
       "      <th></th>\n",
       "      <th></th>\n",
       "      <th></th>\n",
       "      <th></th>\n",
       "      <th></th>\n",
       "      <th></th>\n",
       "    </tr>\n",
       "    <tr>\n",
       "      <th>Date</th>\n",
       "      <th></th>\n",
       "      <th></th>\n",
       "      <th></th>\n",
       "      <th></th>\n",
       "      <th></th>\n",
       "    </tr>\n",
       "  </thead>\n",
       "  <tbody>\n",
       "    <tr>\n",
       "      <th rowspan=\"2\" valign=\"top\">2024-01-01</th>\n",
       "      <th>0</th>\n",
       "      <td>Snipp Interactive Inc (SPN)</td>\n",
       "      <td>0.00 / --</td>\n",
       "      <td>7.45M / --</td>\n",
       "      <td>31.47M</td>\n",
       "    </tr>\n",
       "    <tr>\n",
       "      <th>1</th>\n",
       "      <td>Clean Air Metals (AIR)</td>\n",
       "      <td>-- / --</td>\n",
       "      <td>-- / --</td>\n",
       "      <td>11.2M</td>\n",
       "    </tr>\n",
       "    <tr>\n",
       "      <th rowspan=\"3\" valign=\"top\">2024-01-02</th>\n",
       "      <th>2</th>\n",
       "      <td>Taiwan Cogeneration (8926)</td>\n",
       "      <td>-- / --</td>\n",
       "      <td>-- / --</td>\n",
       "      <td>33.74B</td>\n",
       "    </tr>\n",
       "    <tr>\n",
       "      <th>3</th>\n",
       "      <td>Virtus Dividend Interest Premium Strategy Fund...</td>\n",
       "      <td>-- / --</td>\n",
       "      <td>-- / --</td>\n",
       "      <td>1.17B</td>\n",
       "    </tr>\n",
       "    <tr>\n",
       "      <th>4</th>\n",
       "      <td>ETV Limited Duration (EVV)</td>\n",
       "      <td>-- / --</td>\n",
       "      <td>-- / --</td>\n",
       "      <td>1.14B</td>\n",
       "    </tr>\n",
       "    <tr>\n",
       "      <th>...</th>\n",
       "      <th>...</th>\n",
       "      <td>...</td>\n",
       "      <td>...</td>\n",
       "      <td>...</td>\n",
       "      <td>...</td>\n",
       "    </tr>\n",
       "    <tr>\n",
       "      <th rowspan=\"5\" valign=\"top\">2024-01-19</th>\n",
       "      <th>958</th>\n",
       "      <td>World Acceptance (WRLD)</td>\n",
       "      <td>2.84 / 1.73</td>\n",
       "      <td>137.75M / 131.48M</td>\n",
       "      <td>685.59M</td>\n",
       "    </tr>\n",
       "    <tr>\n",
       "      <th>959</th>\n",
       "      <td>Hingham Institution (HIFS)</td>\n",
       "      <td>-- / --</td>\n",
       "      <td>-- / --</td>\n",
       "      <td>373.39M</td>\n",
       "    </tr>\n",
       "    <tr>\n",
       "      <th>960</th>\n",
       "      <td>Citizens&amp;Northern (CZNC)</td>\n",
       "      <td>0.28 / 0.39</td>\n",
       "      <td>28.31M / 26.37M</td>\n",
       "      <td>272M</td>\n",
       "    </tr>\n",
       "    <tr>\n",
       "      <th>961</th>\n",
       "      <td>Private Bancorp of America (PBAM)</td>\n",
       "      <td>1.36 / 1.36</td>\n",
       "      <td>23.43M / 24.15M</td>\n",
       "      <td>196.13M</td>\n",
       "    </tr>\n",
       "    <tr>\n",
       "      <th>962</th>\n",
       "      <td>First Bancshares (FBSI)</td>\n",
       "      <td>0.65 / --</td>\n",
       "      <td>5.78M / --</td>\n",
       "      <td>59.73M</td>\n",
       "    </tr>\n",
       "  </tbody>\n",
       "</table>\n",
       "<p>963 rows × 4 columns</p>\n",
       "</div>"
      ],
      "text/plain": [
       "                                                     Company_Name  \\\n",
       "                                                                    \n",
       "Date                                                                \n",
       "2024-01-01 0                          Snipp Interactive Inc (SPN)   \n",
       "           1                               Clean Air Metals (AIR)   \n",
       "2024-01-02 2                           Taiwan Cogeneration (8926)   \n",
       "           3    Virtus Dividend Interest Premium Strategy Fund...   \n",
       "           4                           ETV Limited Duration (EVV)   \n",
       "...                                                           ...   \n",
       "2024-01-19 958                            World Acceptance (WRLD)   \n",
       "           959                         Hingham Institution (HIFS)   \n",
       "           960                           Citizens&Northern (CZNC)   \n",
       "           961                  Private Bancorp of America (PBAM)   \n",
       "           962                            First Bancshares (FBSI)   \n",
       "\n",
       "               EPS_Forecast Revenue_Forecast_1 Market_Cap  \n",
       "                                                           \n",
       "Date                                                       \n",
       "2024-01-01 0      0.00 / --         7.45M / --     31.47M  \n",
       "           1        -- / --            -- / --      11.2M  \n",
       "2024-01-02 2        -- / --            -- / --     33.74B  \n",
       "           3        -- / --            -- / --      1.17B  \n",
       "           4        -- / --            -- / --      1.14B  \n",
       "...                     ...                ...        ...  \n",
       "2024-01-19 958  2.84 / 1.73  137.75M / 131.48M    685.59M  \n",
       "           959      -- / --            -- / --    373.39M  \n",
       "           960  0.28 / 0.39    28.31M / 26.37M       272M  \n",
       "           961  1.36 / 1.36    23.43M / 24.15M    196.13M  \n",
       "           962    0.65 / --         5.78M / --     59.73M  \n",
       "\n",
       "[963 rows x 4 columns]"
      ]
     },
     "execution_count": 25,
     "metadata": {},
     "output_type": "execute_result"
    }
   ],
   "source": [
    "final_df"
   ]
  }
 ],
 "metadata": {
  "kernelspec": {
   "display_name": "base",
   "language": "python",
   "name": "python3"
  },
  "language_info": {
   "codemirror_mode": {
    "name": "ipython",
    "version": 3
   },
   "file_extension": ".py",
   "mimetype": "text/x-python",
   "name": "python",
   "nbconvert_exporter": "python",
   "pygments_lexer": "ipython3",
   "version": "3.10.9"
  }
 },
 "nbformat": 4,
 "nbformat_minor": 2
}
